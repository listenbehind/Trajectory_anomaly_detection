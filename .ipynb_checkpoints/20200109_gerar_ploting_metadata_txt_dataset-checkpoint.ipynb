{
 "cells": [
  {
   "cell_type": "markdown",
   "metadata": {},
   "source": [
    "# Ploting metadata photos"
   ]
  },
  {
   "cell_type": "code",
   "execution_count": 8,
   "metadata": {},
   "outputs": [
    {
     "name": "stdout",
     "output_type": "stream",
     "text": [
      "<class 'pandas.core.frame.DataFrame'>\n",
      "RangeIndex: 1274 entries, 0 to 1273\n",
      "Data columns (total 5 columns):\n",
      "date         1274 non-null object\n",
      "time         1274 non-null object\n",
      "latitude     1274 non-null float64\n",
      "longitude    1274 non-null float64\n",
      "name_file    1274 non-null object\n",
      "dtypes: float64(2), object(3)\n",
      "memory usage: 49.9+ KB\n"
     ]
    }
   ],
   "source": [
    "#print(__doc__)\n",
    "import numpy as np\n",
    "import matplotlib.pyplot as plt\n",
    "import pandas as pd\n",
    "import datetime as dt\n",
    "\n",
    "from matplotlib.patches import Patch\n",
    "from matplotlib.lines import Line2D\n",
    "\n",
    "pd.set_option('display.max_rows', 500)\n",
    "pd.set_option('display.max_columns', 500)\n",
    "pd.set_option('display.width', 1000)\n",
    "\n",
    "data = pd.read_csv('gps_photos_data.txt', names = ['date','time','latitude','longitude','name_file'], sep=\" \")\n",
    "data.info()\n"
   ]
  },
  {
   "cell_type": "code",
   "execution_count": 2,
   "metadata": {},
   "outputs": [
    {
     "data": {
      "text/html": [
       "<div>\n",
       "<style scoped>\n",
       "    .dataframe tbody tr th:only-of-type {\n",
       "        vertical-align: middle;\n",
       "    }\n",
       "\n",
       "    .dataframe tbody tr th {\n",
       "        vertical-align: top;\n",
       "    }\n",
       "\n",
       "    .dataframe thead th {\n",
       "        text-align: right;\n",
       "    }\n",
       "</style>\n",
       "<table border=\"1\" class=\"dataframe\">\n",
       "  <thead>\n",
       "    <tr style=\"text-align: right;\">\n",
       "      <th></th>\n",
       "      <th>date</th>\n",
       "      <th>time</th>\n",
       "      <th>latitude</th>\n",
       "      <th>longitude</th>\n",
       "      <th>name_file</th>\n",
       "    </tr>\n",
       "  </thead>\n",
       "  <tbody>\n",
       "    <tr>\n",
       "      <th>0</th>\n",
       "      <td>2019:12:25</td>\n",
       "      <td>21:23:01</td>\n",
       "      <td>-13.524298</td>\n",
       "      <td>-71.971593</td>\n",
       "      <td>005.jpg</td>\n",
       "    </tr>\n",
       "    <tr>\n",
       "      <th>1</th>\n",
       "      <td>2019:12:25</td>\n",
       "      <td>21:23:02</td>\n",
       "      <td>-13.524298</td>\n",
       "      <td>-71.971593</td>\n",
       "      <td>006.jpg</td>\n",
       "    </tr>\n",
       "    <tr>\n",
       "      <th>2</th>\n",
       "      <td>2019:12:25</td>\n",
       "      <td>21:23:03</td>\n",
       "      <td>-13.391979</td>\n",
       "      <td>-72.049106</td>\n",
       "      <td>007.jpg</td>\n",
       "    </tr>\n",
       "    <tr>\n",
       "      <th>3</th>\n",
       "      <td>2019:12:25</td>\n",
       "      <td>21:23:04</td>\n",
       "      <td>-13.391979</td>\n",
       "      <td>-72.049106</td>\n",
       "      <td>008.jpg</td>\n",
       "    </tr>\n",
       "    <tr>\n",
       "      <th>4</th>\n",
       "      <td>2019:12:21</td>\n",
       "      <td>11:32:12</td>\n",
       "      <td>-13.391929</td>\n",
       "      <td>-72.049114</td>\n",
       "      <td>009.jpg</td>\n",
       "    </tr>\n",
       "  </tbody>\n",
       "</table>\n",
       "</div>"
      ],
      "text/plain": [
       "         date      time   latitude  longitude name_file\n",
       "0  2019:12:25  21:23:01 -13.524298 -71.971593   005.jpg\n",
       "1  2019:12:25  21:23:02 -13.524298 -71.971593   006.jpg\n",
       "2  2019:12:25  21:23:03 -13.391979 -72.049106   007.jpg\n",
       "3  2019:12:25  21:23:04 -13.391979 -72.049106   008.jpg\n",
       "4  2019:12:21  11:32:12 -13.391929 -72.049114   009.jpg"
      ]
     },
     "execution_count": 2,
     "metadata": {},
     "output_type": "execute_result"
    }
   ],
   "source": [
    "data.head(5)"
   ]
  },
  {
   "cell_type": "code",
   "execution_count": 13,
   "metadata": {},
   "outputs": [
    {
     "name": "stdout",
     "output_type": "stream",
     "text": [
      "<class 'pandas.core.frame.DataFrame'>\n",
      "RangeIndex: 1274 entries, 0 to 1273\n",
      "Data columns (total 6 columns):\n",
      "date         1274 non-null object\n",
      "time         1274 non-null object\n",
      "latitude     1274 non-null float64\n",
      "longitude    1274 non-null float64\n",
      "name_file    1274 non-null object\n",
      "Datetime     1274 non-null datetime64[ns]\n",
      "dtypes: datetime64[ns](1), float64(2), object(3)\n",
      "memory usage: 59.8+ KB\n"
     ]
    }
   ],
   "source": [
    "#concatenating data with time\n",
    "data['Datetime'] = data['date'] +' '+ data['time']\n",
    "\n",
    "data.loc[data.Datetime == '2019:12:25 21:23:03']\n",
    "\n",
    "data['Datetime'] = pd.to_datetime(data['Datetime'], format='%Y:%m:%d %H:%M:%S')\n",
    "\n",
    "data.info()"
   ]
  },
  {
   "cell_type": "code",
   "execution_count": 16,
   "metadata": {
    "scrolled": false
   },
   "outputs": [
    {
     "data": {
      "text/html": [
       "<div>\n",
       "<style scoped>\n",
       "    .dataframe tbody tr th:only-of-type {\n",
       "        vertical-align: middle;\n",
       "    }\n",
       "\n",
       "    .dataframe tbody tr th {\n",
       "        vertical-align: top;\n",
       "    }\n",
       "\n",
       "    .dataframe thead th {\n",
       "        text-align: right;\n",
       "    }\n",
       "</style>\n",
       "<table border=\"1\" class=\"dataframe\">\n",
       "  <thead>\n",
       "    <tr style=\"text-align: right;\">\n",
       "      <th></th>\n",
       "      <th>date</th>\n",
       "      <th>time</th>\n",
       "      <th>latitude</th>\n",
       "      <th>longitude</th>\n",
       "      <th>name_file</th>\n",
       "      <th>Datetime</th>\n",
       "    </tr>\n",
       "  </thead>\n",
       "  <tbody>\n",
       "    <tr>\n",
       "      <th>4</th>\n",
       "      <td>2019:12:21</td>\n",
       "      <td>11:32:12</td>\n",
       "      <td>-13.391929</td>\n",
       "      <td>-72.049114</td>\n",
       "      <td>009.jpg</td>\n",
       "      <td>2019-12-21 11:32:12</td>\n",
       "    </tr>\n",
       "    <tr>\n",
       "      <th>5</th>\n",
       "      <td>2019:12:21</td>\n",
       "      <td>11:32:12</td>\n",
       "      <td>-13.391929</td>\n",
       "      <td>-72.049114</td>\n",
       "      <td>010.jpg</td>\n",
       "      <td>2019-12-21 11:32:12</td>\n",
       "    </tr>\n",
       "    <tr>\n",
       "      <th>7</th>\n",
       "      <td>2019:12:21</td>\n",
       "      <td>11:32:21</td>\n",
       "      <td>-13.391916</td>\n",
       "      <td>-72.049036</td>\n",
       "      <td>012.jpg</td>\n",
       "      <td>2019-12-21 11:32:21</td>\n",
       "    </tr>\n",
       "    <tr>\n",
       "      <th>6</th>\n",
       "      <td>2019:12:21</td>\n",
       "      <td>11:32:21</td>\n",
       "      <td>-13.391916</td>\n",
       "      <td>-72.049036</td>\n",
       "      <td>011.jpg</td>\n",
       "      <td>2019-12-21 11:32:21</td>\n",
       "    </tr>\n",
       "    <tr>\n",
       "      <th>8</th>\n",
       "      <td>2019:12:21</td>\n",
       "      <td>11:32:30</td>\n",
       "      <td>-13.391908</td>\n",
       "      <td>-72.048996</td>\n",
       "      <td>013.jpg</td>\n",
       "      <td>2019-12-21 11:32:30</td>\n",
       "    </tr>\n",
       "    <tr>\n",
       "      <th>...</th>\n",
       "      <td>...</td>\n",
       "      <td>...</td>\n",
       "      <td>...</td>\n",
       "      <td>...</td>\n",
       "      <td>...</td>\n",
       "      <td>...</td>\n",
       "    </tr>\n",
       "    <tr>\n",
       "      <th>765</th>\n",
       "      <td>2019:12:25</td>\n",
       "      <td>21:26:50</td>\n",
       "      <td>-13.277500</td>\n",
       "      <td>-72.183611</td>\n",
       "      <td>471.jpg</td>\n",
       "      <td>2019-12-25 21:26:50</td>\n",
       "    </tr>\n",
       "    <tr>\n",
       "      <th>832</th>\n",
       "      <td>2019:12:25</td>\n",
       "      <td>21:27:27</td>\n",
       "      <td>-13.256941</td>\n",
       "      <td>-72.265289</td>\n",
       "      <td>542.jpg</td>\n",
       "      <td>2019-12-25 21:27:27</td>\n",
       "    </tr>\n",
       "    <tr>\n",
       "      <th>833</th>\n",
       "      <td>2019:12:25</td>\n",
       "      <td>21:27:28</td>\n",
       "      <td>-13.256941</td>\n",
       "      <td>-72.265289</td>\n",
       "      <td>543.jpg</td>\n",
       "      <td>2019-12-25 21:27:28</td>\n",
       "    </tr>\n",
       "    <tr>\n",
       "      <th>842</th>\n",
       "      <td>2019:12:25</td>\n",
       "      <td>21:27:33</td>\n",
       "      <td>-13.154444</td>\n",
       "      <td>-72.525833</td>\n",
       "      <td>556.jpg</td>\n",
       "      <td>2019-12-25 21:27:33</td>\n",
       "    </tr>\n",
       "    <tr>\n",
       "      <th>843</th>\n",
       "      <td>2019:12:25</td>\n",
       "      <td>21:27:34</td>\n",
       "      <td>-13.154444</td>\n",
       "      <td>-72.525833</td>\n",
       "      <td>557.jpg</td>\n",
       "      <td>2019-12-25 21:27:34</td>\n",
       "    </tr>\n",
       "  </tbody>\n",
       "</table>\n",
       "<p>1274 rows × 6 columns</p>\n",
       "</div>"
      ],
      "text/plain": [
       "           date      time   latitude  longitude name_file            Datetime\n",
       "4    2019:12:21  11:32:12 -13.391929 -72.049114   009.jpg 2019-12-21 11:32:12\n",
       "5    2019:12:21  11:32:12 -13.391929 -72.049114   010.jpg 2019-12-21 11:32:12\n",
       "7    2019:12:21  11:32:21 -13.391916 -72.049036   012.jpg 2019-12-21 11:32:21\n",
       "6    2019:12:21  11:32:21 -13.391916 -72.049036   011.jpg 2019-12-21 11:32:21\n",
       "8    2019:12:21  11:32:30 -13.391908 -72.048996   013.jpg 2019-12-21 11:32:30\n",
       "..          ...       ...        ...        ...       ...                 ...\n",
       "765  2019:12:25  21:26:50 -13.277500 -72.183611   471.jpg 2019-12-25 21:26:50\n",
       "832  2019:12:25  21:27:27 -13.256941 -72.265289   542.jpg 2019-12-25 21:27:27\n",
       "833  2019:12:25  21:27:28 -13.256941 -72.265289   543.jpg 2019-12-25 21:27:28\n",
       "842  2019:12:25  21:27:33 -13.154444 -72.525833   556.jpg 2019-12-25 21:27:33\n",
       "843  2019:12:25  21:27:34 -13.154444 -72.525833   557.jpg 2019-12-25 21:27:34\n",
       "\n",
       "[1274 rows x 6 columns]"
      ]
     },
     "execution_count": 16,
     "metadata": {},
     "output_type": "execute_result"
    }
   ],
   "source": [
    "#sort values by datetime in order to create trayectories\n",
    "data.sort_values(by=['Datetime'],ascending=True)"
   ]
  },
  {
   "cell_type": "code",
   "execution_count": 17,
   "metadata": {},
   "outputs": [
    {
     "data": {
      "text/plain": [
       "[<matplotlib.lines.Line2D at 0x125f3445688>]"
      ]
     },
     "execution_count": 17,
     "metadata": {},
     "output_type": "execute_result"
    },
    {
     "data": {
      "image/png": "[encoded data removed]",
      "text/plain": [
       "<Figure size 432x288 with 1 Axes>"
      ]
     },
     "metadata": {
      "needs_background": "light"
     },
     "output_type": "display_data"
    }
   ],
   "source": [
    "linex = list(map(float, data['latitude']))\n",
    "liney = list(map(float, data['longitude']))\n",
    "\n",
    "plt.plot(linex, liney, 'o', linestyle='none', markersize=4)\n"
   ]
  },
  {
   "cell_type": "code",
   "execution_count": 22,
   "metadata": {},
   "outputs": [
    {
     "data": {
      "text/plain": [
       "(1274, 6)"
      ]
     },
     "execution_count": 22,
     "metadata": {},
     "output_type": "execute_result"
    }
   ],
   "source": [
    "#Apply clustering to separate different places\n",
    "from sklearn.cluster import AffinityPropagation\n",
    "from sklearn import metrics\n",
    "import numpy as np\n",
    "import matplotlib.pyplot as plt\n",
    "\n",
    "data.shape"
   ]
  },
  {
   "cell_type": "code",
   "execution_count": 39,
   "metadata": {},
   "outputs": [
    {
     "data": {
      "text/plain": [
       "array([[-13.52429778, -71.97159278],\n",
       "       [-13.52429778, -71.97159278],\n",
       "       [-13.39197861, -72.04910556],\n",
       "       ...,\n",
       "       [-13.16575472, -72.54504917],\n",
       "       [-13.16575472, -72.54504917],\n",
       "       [-13.16567306, -72.54502222]])"
      ]
     },
     "execution_count": 39,
     "metadata": {},
     "output_type": "execute_result"
    }
   ],
   "source": [
    "###############################################################################\n",
    "# Leyendo data\n",
    "n = data.shape[0]\n",
    "dim = 2\n",
    "\n",
    "#X = np.zeros((n,dim)) \n",
    "\n",
    "attributes = ['latitude','longitude']\n",
    "X = data[attributes].values\n",
    "\n",
    "labels_true = np.zeros(n)\n",
    "# X contains values to cluster as lists\n",
    "X"
   ]
  },
  {
   "cell_type": "code",
   "execution_count": 32,
   "metadata": {},
   "outputs": [
    {
     "name": "stdout",
     "output_type": "stream",
     "text": [
      "<class 'numpy.ndarray'>\n",
      "1273\n"
     ]
    }
   ],
   "source": [
    "af = AffinityPropagation(preference=None).fit(X)\n",
    "\n",
    "cluster_centers_indices = af.cluster_centers_indices_\n",
    "#print(cluster_centers_indices)\n",
    "labels = af.labels_\n",
    "\n",
    "for i in range(0,len(labels)):\n",
    "    print(str(labels[i])+\" \"+ str(i) +'\\n')\n",
    "\n",
    "n_clusters_ = len(cluster_centers_indices)\n",
    "print(n_clusters_)"
   ]
  },
  {
   "cell_type": "markdown",
   "metadata": {},
   "source": [
    "## Dbscan clustering"
   ]
  },
  {
   "cell_type": "code",
   "execution_count": 41,
   "metadata": {},
   "outputs": [],
   "source": [
    "from sklearn.cluster import DBSCAN\n",
    "from sklearn.cluster import MeanShift, estimate_bandwidth\n",
    "from sklearn import metrics\n",
    "from sklearn.datasets.samples_generator import make_blobs\n",
    "import matplotlib.pyplot as plt\n",
    "from sklearn.preprocessing import StandardScaler"
   ]
  },
  {
   "cell_type": "code",
   "execution_count": 42,
   "metadata": {},
   "outputs": [],
   "source": [
    "db = DBSCAN(eps=0.05, min_samples=6, metric='euclidean', algorithm='auto', leaf_size=30, p=None, n_jobs=1).fit(X)\n",
    "#db = DBSCAN(eps=100, min_samples=6, metric='euclidean', algorithm='auto', leaf_size=30, p=None, n_jobs=1).fit(X)\n",
    "\n",
    "core_samples_mask = np.zeros_like(db.labels_, dtype=bool)\n",
    "core_samples_mask[db.core_sample_indices_] = True\n",
    "labels = db.labels_\n",
    "\n",
    "# Number of clusters in labels, ignoring noise if present.\n",
    "n_clusters_ = len(set(labels)) - (1 if -1 in labels else 0)\n"
   ]
  },
  {
   "cell_type": "code",
   "execution_count": 53,
   "metadata": {},
   "outputs": [
    {
     "name": "stdout",
     "output_type": "stream",
     "text": [
      "4\n"
     ]
    },
    {
     "data": {
      "text/html": [
       "<div>\n",
       "<style scoped>\n",
       "    .dataframe tbody tr th:only-of-type {\n",
       "        vertical-align: middle;\n",
       "    }\n",
       "\n",
       "    .dataframe tbody tr th {\n",
       "        vertical-align: top;\n",
       "    }\n",
       "\n",
       "    .dataframe thead th {\n",
       "        text-align: right;\n",
       "    }\n",
       "</style>\n",
       "<table border=\"1\" class=\"dataframe\">\n",
       "  <thead>\n",
       "    <tr style=\"text-align: right;\">\n",
       "      <th></th>\n",
       "      <th>date</th>\n",
       "      <th>time</th>\n",
       "      <th>latitude</th>\n",
       "      <th>longitude</th>\n",
       "      <th>name_file</th>\n",
       "      <th>Datetime</th>\n",
       "      <th>label</th>\n",
       "    </tr>\n",
       "  </thead>\n",
       "  <tbody>\n",
       "    <tr>\n",
       "      <th>0</th>\n",
       "      <td>2019:12:25</td>\n",
       "      <td>21:23:01</td>\n",
       "      <td>-13.524298</td>\n",
       "      <td>-71.971593</td>\n",
       "      <td>005.jpg</td>\n",
       "      <td>2019-12-25 21:23:01</td>\n",
       "      <td>-1</td>\n",
       "    </tr>\n",
       "    <tr>\n",
       "      <th>1</th>\n",
       "      <td>2019:12:25</td>\n",
       "      <td>21:23:02</td>\n",
       "      <td>-13.524298</td>\n",
       "      <td>-71.971593</td>\n",
       "      <td>006.jpg</td>\n",
       "      <td>2019-12-25 21:23:02</td>\n",
       "      <td>-1</td>\n",
       "    </tr>\n",
       "    <tr>\n",
       "      <th>2</th>\n",
       "      <td>2019:12:25</td>\n",
       "      <td>21:23:03</td>\n",
       "      <td>-13.391979</td>\n",
       "      <td>-72.049106</td>\n",
       "      <td>007.jpg</td>\n",
       "      <td>2019-12-25 21:23:03</td>\n",
       "      <td>0</td>\n",
       "    </tr>\n",
       "    <tr>\n",
       "      <th>3</th>\n",
       "      <td>2019:12:25</td>\n",
       "      <td>21:23:04</td>\n",
       "      <td>-13.391979</td>\n",
       "      <td>-72.049106</td>\n",
       "      <td>008.jpg</td>\n",
       "      <td>2019-12-25 21:23:04</td>\n",
       "      <td>0</td>\n",
       "    </tr>\n",
       "    <tr>\n",
       "      <th>4</th>\n",
       "      <td>2019:12:21</td>\n",
       "      <td>11:32:12</td>\n",
       "      <td>-13.391929</td>\n",
       "      <td>-72.049114</td>\n",
       "      <td>009.jpg</td>\n",
       "      <td>2019-12-21 11:32:12</td>\n",
       "      <td>0</td>\n",
       "    </tr>\n",
       "    <tr>\n",
       "      <th>...</th>\n",
       "      <td>...</td>\n",
       "      <td>...</td>\n",
       "      <td>...</td>\n",
       "      <td>...</td>\n",
       "      <td>...</td>\n",
       "      <td>...</td>\n",
       "      <td>...</td>\n",
       "    </tr>\n",
       "    <tr>\n",
       "      <th>1269</th>\n",
       "      <td>2019:12:22</td>\n",
       "      <td>09:43:07</td>\n",
       "      <td>-13.165942</td>\n",
       "      <td>-72.545395</td>\n",
       "      <td>995.jpg</td>\n",
       "      <td>2019-12-22 09:43:07</td>\n",
       "      <td>1</td>\n",
       "    </tr>\n",
       "    <tr>\n",
       "      <th>1270</th>\n",
       "      <td>2019:12:22</td>\n",
       "      <td>09:43:07</td>\n",
       "      <td>-13.165942</td>\n",
       "      <td>-72.545395</td>\n",
       "      <td>996.jpg</td>\n",
       "      <td>2019-12-22 09:43:07</td>\n",
       "      <td>1</td>\n",
       "    </tr>\n",
       "    <tr>\n",
       "      <th>1271</th>\n",
       "      <td>2019:12:22</td>\n",
       "      <td>09:43:39</td>\n",
       "      <td>-13.165755</td>\n",
       "      <td>-72.545049</td>\n",
       "      <td>997.jpg</td>\n",
       "      <td>2019-12-22 09:43:39</td>\n",
       "      <td>1</td>\n",
       "    </tr>\n",
       "    <tr>\n",
       "      <th>1272</th>\n",
       "      <td>2019:12:22</td>\n",
       "      <td>09:43:39</td>\n",
       "      <td>-13.165755</td>\n",
       "      <td>-72.545049</td>\n",
       "      <td>998.jpg</td>\n",
       "      <td>2019-12-22 09:43:39</td>\n",
       "      <td>1</td>\n",
       "    </tr>\n",
       "    <tr>\n",
       "      <th>1273</th>\n",
       "      <td>2019:12:22</td>\n",
       "      <td>09:43:54</td>\n",
       "      <td>-13.165673</td>\n",
       "      <td>-72.545022</td>\n",
       "      <td>999.jpg</td>\n",
       "      <td>2019-12-22 09:43:54</td>\n",
       "      <td>1</td>\n",
       "    </tr>\n",
       "  </tbody>\n",
       "</table>\n",
       "<p>1274 rows × 7 columns</p>\n",
       "</div>"
      ],
      "text/plain": [
       "            date      time   latitude  longitude name_file            Datetime  label\n",
       "0     2019:12:25  21:23:01 -13.524298 -71.971593   005.jpg 2019-12-25 21:23:01     -1\n",
       "1     2019:12:25  21:23:02 -13.524298 -71.971593   006.jpg 2019-12-25 21:23:02     -1\n",
       "2     2019:12:25  21:23:03 -13.391979 -72.049106   007.jpg 2019-12-25 21:23:03      0\n",
       "3     2019:12:25  21:23:04 -13.391979 -72.049106   008.jpg 2019-12-25 21:23:04      0\n",
       "4     2019:12:21  11:32:12 -13.391929 -72.049114   009.jpg 2019-12-21 11:32:12      0\n",
       "...          ...       ...        ...        ...       ...                 ...    ...\n",
       "1269  2019:12:22  09:43:07 -13.165942 -72.545395   995.jpg 2019-12-22 09:43:07      1\n",
       "1270  2019:12:22  09:43:07 -13.165942 -72.545395   996.jpg 2019-12-22 09:43:07      1\n",
       "1271  2019:12:22  09:43:39 -13.165755 -72.545049   997.jpg 2019-12-22 09:43:39      1\n",
       "1272  2019:12:22  09:43:39 -13.165755 -72.545049   998.jpg 2019-12-22 09:43:39      1\n",
       "1273  2019:12:22  09:43:54 -13.165673 -72.545022   999.jpg 2019-12-22 09:43:54      1\n",
       "\n",
       "[1274 rows x 7 columns]"
      ]
     },
     "execution_count": 53,
     "metadata": {},
     "output_type": "execute_result"
    }
   ],
   "source": [
    "\n",
    "print(n_clusters_)\n",
    "# for i in range(0,len(labels)):\n",
    "#     print(str(labels[i])+\" \"+ str(i) +'\\n')\n",
    "\n",
    "seriess = pd.Series(labels)\n",
    "\n",
    "data['label'] = seriess\n",
    "data"
   ]
  },
  {
   "cell_type": "markdown",
   "metadata": {},
   "source": [
    "## Visualization clustering"
   ]
  },
  {
   "cell_type": "code",
   "execution_count": 55,
   "metadata": {},
   "outputs": [
    {
     "data": {
      "image/png": "[encoded data removed]",
      "text/plain": [
       "<Figure size 406x360 with 1 Axes>"
      ]
     },
     "metadata": {
      "needs_background": "light"
     },
     "output_type": "display_data"
    }
   ],
   "source": [
    "import seaborn as sns\n",
    "#plot data with seaborn\n",
    "facet = sns.lmplot(data=data, x='latitude', y='longitude', hue='label', \n",
    "                   fit_reg=False, legend=True, legend_out=True)"
   ]
  },
  {
   "cell_type": "code",
   "execution_count": null,
   "metadata": {},
   "outputs": [],
   "source": []
  },
  {
   "cell_type": "code",
   "execution_count": null,
   "metadata": {},
   "outputs": [],
   "source": []
  },
  {
   "cell_type": "code",
   "execution_count": null,
   "metadata": {},
   "outputs": [],
   "source": []
  }
 ],
 "metadata": {
  "kernelspec": {
   "display_name": "Python 3",
   "language": "python",
   "name": "python3"
  },
  "language_info": {
   "codemirror_mode": {
    "name": "ipython",
    "version": 3
   },
   "file_extension": ".py",
   "mimetype": "text/x-python",
   "name": "python",
   "nbconvert_exporter": "python",
   "pygments_lexer": "ipython3",
   "version": "3.7.5"
  }
 },
 "nbformat": 4,
 "nbformat_minor": 2
}

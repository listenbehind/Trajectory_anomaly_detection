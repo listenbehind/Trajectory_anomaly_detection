{
 "cells": [
  {
   "cell_type": "markdown",
   "metadata": {},
   "source": [
    "# Ploting metadata photos"
   ]
  },
  {
   "cell_type": "code",
   "execution_count": 1,
   "metadata": {},
   "outputs": [
    {
     "name": "stdout",
     "output_type": "stream",
     "text": [
      "<class 'pandas.core.frame.DataFrame'>\n",
      "RangeIndex: 1274 entries, 0 to 1273\n",
      "Data columns (total 5 columns):\n",
      "date         1274 non-null object\n",
      "time         1274 non-null object\n",
      "latitude     1274 non-null float64\n",
      "longitude    1274 non-null float64\n",
      "name_file    1274 non-null object\n",
      "dtypes: float64(2), object(3)\n",
      "memory usage: 49.8+ KB\n"
     ]
    }
   ],
   "source": [
    "#print(__doc__)\n",
    "import numpy as np\n",
    "import matplotlib.pyplot as plt\n",
    "import pandas as pd\n",
    "import datetime as dt\n",
    "\n",
    "from matplotlib.patches import Patch\n",
    "from matplotlib.lines import Line2D\n",
    "\n",
    "pd.set_option('display.max_rows', 500)\n",
    "pd.set_option('display.max_columns', 500)\n",
    "pd.set_option('display.width', 1000)\n",
    "\n",
    "data = pd.read_csv('gps_photos_data.txt', names = ['date','time','latitude','longitude','name_file'], sep=\" \")\n",
    "data.info()"
   ]
  },
  {
   "cell_type": "code",
   "execution_count": 2,
   "metadata": {},
   "outputs": [
    {
     "data": {
      "text/html": [
       "<div>\n",
       "<style scoped>\n",
       "    .dataframe tbody tr th:only-of-type {\n",
       "        vertical-align: middle;\n",
       "    }\n",
       "\n",
       "    .dataframe tbody tr th {\n",
       "        vertical-align: top;\n",
       "    }\n",
       "\n",
       "    .dataframe thead th {\n",
       "        text-align: right;\n",
       "    }\n",
       "</style>\n",
       "<table border=\"1\" class=\"dataframe\">\n",
       "  <thead>\n",
       "    <tr style=\"text-align: right;\">\n",
       "      <th></th>\n",
       "      <th>date</th>\n",
       "      <th>time</th>\n",
       "      <th>latitude</th>\n",
       "      <th>longitude</th>\n",
       "      <th>name_file</th>\n",
       "    </tr>\n",
       "  </thead>\n",
       "  <tbody>\n",
       "    <tr>\n",
       "      <th>0</th>\n",
       "      <td>2019:12:25</td>\n",
       "      <td>21:23:01</td>\n",
       "      <td>-13.524298</td>\n",
       "      <td>-71.971593</td>\n",
       "      <td>005.jpg</td>\n",
       "    </tr>\n",
       "    <tr>\n",
       "      <th>1</th>\n",
       "      <td>2019:12:25</td>\n",
       "      <td>21:23:02</td>\n",
       "      <td>-13.524298</td>\n",
       "      <td>-71.971593</td>\n",
       "      <td>006.jpg</td>\n",
       "    </tr>\n",
       "    <tr>\n",
       "      <th>2</th>\n",
       "      <td>2019:12:25</td>\n",
       "      <td>21:23:03</td>\n",
       "      <td>-13.391979</td>\n",
       "      <td>-72.049106</td>\n",
       "      <td>007.jpg</td>\n",
       "    </tr>\n",
       "    <tr>\n",
       "      <th>3</th>\n",
       "      <td>2019:12:25</td>\n",
       "      <td>21:23:04</td>\n",
       "      <td>-13.391979</td>\n",
       "      <td>-72.049106</td>\n",
       "      <td>008.jpg</td>\n",
       "    </tr>\n",
       "    <tr>\n",
       "      <th>4</th>\n",
       "      <td>2019:12:21</td>\n",
       "      <td>11:32:12</td>\n",
       "      <td>-13.391929</td>\n",
       "      <td>-72.049114</td>\n",
       "      <td>009.jpg</td>\n",
       "    </tr>\n",
       "  </tbody>\n",
       "</table>\n",
       "</div>"
      ],
      "text/plain": [
       "         date      time   latitude  longitude name_file\n",
       "0  2019:12:25  21:23:01 -13.524298 -71.971593   005.jpg\n",
       "1  2019:12:25  21:23:02 -13.524298 -71.971593   006.jpg\n",
       "2  2019:12:25  21:23:03 -13.391979 -72.049106   007.jpg\n",
       "3  2019:12:25  21:23:04 -13.391979 -72.049106   008.jpg\n",
       "4  2019:12:21  11:32:12 -13.391929 -72.049114   009.jpg"
      ]
     },
     "execution_count": 2,
     "metadata": {},
     "output_type": "execute_result"
    }
   ],
   "source": [
    "data.head(5)"
   ]
  },
  {
   "cell_type": "code",
   "execution_count": 3,
   "metadata": {},
   "outputs": [
    {
     "name": "stdout",
     "output_type": "stream",
     "text": [
      "<class 'pandas.core.frame.DataFrame'>\n",
      "RangeIndex: 1274 entries, 0 to 1273\n",
      "Data columns (total 6 columns):\n",
      "date         1274 non-null object\n",
      "time         1274 non-null object\n",
      "latitude     1274 non-null float64\n",
      "longitude    1274 non-null float64\n",
      "name_file    1274 non-null object\n",
      "Datetime     1274 non-null datetime64[ns]\n",
      "dtypes: datetime64[ns](1), float64(2), object(3)\n",
      "memory usage: 59.8+ KB\n"
     ]
    }
   ],
   "source": [
    "#concatenating data with time\n",
    "data['Datetime'] = data['date'] +' '+ data['time']\n",
    "data.loc[data.Datetime == '2019:12:25 21:23:03']\n",
    "data['Datetime'] = pd.to_datetime(data['Datetime'], format='%Y:%m:%d %H:%M:%S')\n",
    "data.info()"
   ]
  },
  {
   "cell_type": "code",
   "execution_count": 4,
   "metadata": {
    "scrolled": true
   },
   "outputs": [
    {
     "data": {
      "text/html": [
       "<div>\n",
       "<style scoped>\n",
       "    .dataframe tbody tr th:only-of-type {\n",
       "        vertical-align: middle;\n",
       "    }\n",
       "\n",
       "    .dataframe tbody tr th {\n",
       "        vertical-align: top;\n",
       "    }\n",
       "\n",
       "    .dataframe thead th {\n",
       "        text-align: right;\n",
       "    }\n",
       "</style>\n",
       "<table border=\"1\" class=\"dataframe\">\n",
       "  <thead>\n",
       "    <tr style=\"text-align: right;\">\n",
       "      <th></th>\n",
       "      <th>date</th>\n",
       "      <th>time</th>\n",
       "      <th>latitude</th>\n",
       "      <th>longitude</th>\n",
       "      <th>name_file</th>\n",
       "      <th>Datetime</th>\n",
       "    </tr>\n",
       "  </thead>\n",
       "  <tbody>\n",
       "    <tr>\n",
       "      <th>4</th>\n",
       "      <td>2019:12:21</td>\n",
       "      <td>11:32:12</td>\n",
       "      <td>-13.391929</td>\n",
       "      <td>-72.049114</td>\n",
       "      <td>009.jpg</td>\n",
       "      <td>2019-12-21 11:32:12</td>\n",
       "    </tr>\n",
       "    <tr>\n",
       "      <th>5</th>\n",
       "      <td>2019:12:21</td>\n",
       "      <td>11:32:12</td>\n",
       "      <td>-13.391929</td>\n",
       "      <td>-72.049114</td>\n",
       "      <td>010.jpg</td>\n",
       "      <td>2019-12-21 11:32:12</td>\n",
       "    </tr>\n",
       "    <tr>\n",
       "      <th>7</th>\n",
       "      <td>2019:12:21</td>\n",
       "      <td>11:32:21</td>\n",
       "      <td>-13.391916</td>\n",
       "      <td>-72.049036</td>\n",
       "      <td>012.jpg</td>\n",
       "      <td>2019-12-21 11:32:21</td>\n",
       "    </tr>\n",
       "    <tr>\n",
       "      <th>6</th>\n",
       "      <td>2019:12:21</td>\n",
       "      <td>11:32:21</td>\n",
       "      <td>-13.391916</td>\n",
       "      <td>-72.049036</td>\n",
       "      <td>011.jpg</td>\n",
       "      <td>2019-12-21 11:32:21</td>\n",
       "    </tr>\n",
       "    <tr>\n",
       "      <th>8</th>\n",
       "      <td>2019:12:21</td>\n",
       "      <td>11:32:30</td>\n",
       "      <td>-13.391908</td>\n",
       "      <td>-72.048996</td>\n",
       "      <td>013.jpg</td>\n",
       "      <td>2019-12-21 11:32:30</td>\n",
       "    </tr>\n",
       "    <tr>\n",
       "      <th>9</th>\n",
       "      <td>2019:12:21</td>\n",
       "      <td>11:32:30</td>\n",
       "      <td>-13.391908</td>\n",
       "      <td>-72.048996</td>\n",
       "      <td>014.jpg</td>\n",
       "      <td>2019-12-21 11:32:30</td>\n",
       "    </tr>\n",
       "    <tr>\n",
       "      <th>10</th>\n",
       "      <td>2019:12:21</td>\n",
       "      <td>11:32:42</td>\n",
       "      <td>-13.391914</td>\n",
       "      <td>-72.048917</td>\n",
       "      <td>015.jpg</td>\n",
       "      <td>2019-12-21 11:32:42</td>\n",
       "    </tr>\n",
       "    <tr>\n",
       "      <th>11</th>\n",
       "      <td>2019:12:21</td>\n",
       "      <td>11:32:42</td>\n",
       "      <td>-13.391914</td>\n",
       "      <td>-72.048917</td>\n",
       "      <td>016.jpg</td>\n",
       "      <td>2019-12-21 11:32:42</td>\n",
       "    </tr>\n",
       "    <tr>\n",
       "      <th>12</th>\n",
       "      <td>2019:12:21</td>\n",
       "      <td>11:32:51</td>\n",
       "      <td>-13.391891</td>\n",
       "      <td>-72.048833</td>\n",
       "      <td>017.jpg</td>\n",
       "      <td>2019-12-21 11:32:51</td>\n",
       "    </tr>\n",
       "    <tr>\n",
       "      <th>13</th>\n",
       "      <td>2019:12:21</td>\n",
       "      <td>11:32:51</td>\n",
       "      <td>-13.391891</td>\n",
       "      <td>-72.048833</td>\n",
       "      <td>018.jpg</td>\n",
       "      <td>2019-12-21 11:32:51</td>\n",
       "    </tr>\n",
       "  </tbody>\n",
       "</table>\n",
       "</div>"
      ],
      "text/plain": [
       "          date      time   latitude  longitude name_file            Datetime\n",
       "4   2019:12:21  11:32:12 -13.391929 -72.049114   009.jpg 2019-12-21 11:32:12\n",
       "5   2019:12:21  11:32:12 -13.391929 -72.049114   010.jpg 2019-12-21 11:32:12\n",
       "7   2019:12:21  11:32:21 -13.391916 -72.049036   012.jpg 2019-12-21 11:32:21\n",
       "6   2019:12:21  11:32:21 -13.391916 -72.049036   011.jpg 2019-12-21 11:32:21\n",
       "8   2019:12:21  11:32:30 -13.391908 -72.048996   013.jpg 2019-12-21 11:32:30\n",
       "9   2019:12:21  11:32:30 -13.391908 -72.048996   014.jpg 2019-12-21 11:32:30\n",
       "10  2019:12:21  11:32:42 -13.391914 -72.048917   015.jpg 2019-12-21 11:32:42\n",
       "11  2019:12:21  11:32:42 -13.391914 -72.048917   016.jpg 2019-12-21 11:32:42\n",
       "12  2019:12:21  11:32:51 -13.391891 -72.048833   017.jpg 2019-12-21 11:32:51\n",
       "13  2019:12:21  11:32:51 -13.391891 -72.048833   018.jpg 2019-12-21 11:32:51"
      ]
     },
     "execution_count": 4,
     "metadata": {},
     "output_type": "execute_result"
    }
   ],
   "source": [
    "#sort values by datetime in order to create trayectories\n",
    "data.sort_values(by=['Datetime'],ascending=True).head(10)"
   ]
  },
  {
   "cell_type": "code",
   "execution_count": 5,
   "metadata": {},
   "outputs": [
    {
     "data": {
      "text/plain": [
       "[<matplotlib.lines.Line2D at 0x20b6fa45f98>]"
      ]
     },
     "execution_count": 5,
     "metadata": {},
     "output_type": "execute_result"
    },
    {
     "data": {
      "image/png": "[encoded data removed]",
      "text/plain": [
       "<Figure size 432x288 with 1 Axes>"
      ]
     },
     "metadata": {
      "needs_background": "light"
     },
     "output_type": "display_data"
    }
   ],
   "source": [
    "#conver data on list\n",
    "linex = list(map(float, data['latitude']))\n",
    "liney = list(map(float, data['longitude']))\n",
    "\n",
    "plt.plot(linex, liney, 'o', linestyle='none', markersize=4)\n"
   ]
  },
  {
   "cell_type": "markdown",
   "metadata": {},
   "source": [
    "## Applying clustering con GPS points"
   ]
  },
  {
   "cell_type": "code",
   "execution_count": 6,
   "metadata": {},
   "outputs": [
    {
     "data": {
      "text/plain": [
       "(1274, 6)"
      ]
     },
     "execution_count": 6,
     "metadata": {},
     "output_type": "execute_result"
    }
   ],
   "source": [
    "#Apply clustering to separate different places\n",
    "from sklearn.cluster import AffinityPropagation\n",
    "from sklearn import metrics\n",
    "import numpy as np\n",
    "import matplotlib.pyplot as plt\n",
    "\n",
    "data.shape"
   ]
  },
  {
   "cell_type": "code",
   "execution_count": 7,
   "metadata": {},
   "outputs": [
    {
     "data": {
      "text/plain": [
       "array([[-13.52429778, -71.97159278],\n",
       "       [-13.52429778, -71.97159278],\n",
       "       [-13.39197861, -72.04910556],\n",
       "       ...,\n",
       "       [-13.16575472, -72.54504917],\n",
       "       [-13.16575472, -72.54504917],\n",
       "       [-13.16567306, -72.54502222]])"
      ]
     },
     "execution_count": 7,
     "metadata": {},
     "output_type": "execute_result"
    }
   ],
   "source": [
    "###############################################################################\n",
    "# Leyendo data\n",
    "n = data.shape[0]\n",
    "dim = 2\n",
    "\n",
    "#X = np.zeros((n,dim)) \n",
    "\n",
    "attributes = ['latitude','longitude']\n",
    "X = data[attributes].values\n",
    "labels_true = np.zeros(n)\n",
    "# X contains values to cluster as lists\n",
    "X"
   ]
  },
  {
   "cell_type": "markdown",
   "metadata": {},
   "source": [
    "## Dbscan clustering"
   ]
  },
  {
   "cell_type": "code",
   "execution_count": 8,
   "metadata": {},
   "outputs": [],
   "source": [
    "from sklearn.cluster import DBSCAN\n",
    "from sklearn.cluster import MeanShift, estimate_bandwidth\n",
    "from sklearn import metrics\n",
    "from sklearn.datasets.samples_generator import make_blobs\n",
    "import matplotlib.pyplot as plt\n",
    "from sklearn.preprocessing import StandardScaler"
   ]
  },
  {
   "cell_type": "code",
   "execution_count": 9,
   "metadata": {},
   "outputs": [],
   "source": [
    "db = DBSCAN(eps=0.05, min_samples=6, metric='euclidean', algorithm='auto', leaf_size=30, p=None, n_jobs=1).fit(X)\n",
    "\n",
    "core_samples_mask = np.zeros_like(db.labels_, dtype=bool)\n",
    "core_samples_mask[db.core_sample_indices_] = True\n",
    "labels = db.labels_\n",
    "\n",
    "# Number of clusters in labels, ignoring noise if present.\n",
    "n_clusters_ = len(set(labels)) - (1 if -1 in labels else 0)\n"
   ]
  },
  {
   "cell_type": "code",
   "execution_count": 10,
   "metadata": {},
   "outputs": [
    {
     "name": "stdout",
     "output_type": "stream",
     "text": [
      "Number of clusters  4\n"
     ]
    }
   ],
   "source": [
    "\n",
    "print('Number of clusters ', n_clusters_)\n",
    "# for i in range(0,len(labels)):\n",
    "#     print(str(labels[i])+\" \"+ str(i) +'\\n')\n",
    "\n",
    "#adding label as new attribute\n",
    "label_serie = pd.Series(labels)\n",
    "data['label'] = label_serie\n",
    "\n",
    "#Erasing noisy data\n",
    "data = data.loc[data.label >= 0]\n"
   ]
  },
  {
   "cell_type": "markdown",
   "metadata": {},
   "source": [
    "## Visualization clustering"
   ]
  },
  {
   "cell_type": "code",
   "execution_count": 11,
   "metadata": {},
   "outputs": [
    {
     "data": {
      "image/png": "[encoded data removed]",
      "text/plain": [
       "<Figure size 402.375x360 with 1 Axes>"
      ]
     },
     "metadata": {
      "needs_background": "light"
     },
     "output_type": "display_data"
    }
   ],
   "source": [
    "import seaborn as sns\n",
    "#plot data with seaborn\n",
    "facet = sns.lmplot(data=data, x='latitude', y='longitude', hue='label', \n",
    "                   fit_reg=False, legend=True, legend_out=True)"
   ]
  },
  {
   "cell_type": "markdown",
   "metadata": {},
   "source": [
    " # Retrieve cluster information"
   ]
  },
  {
   "cell_type": "code",
   "execution_count": 12,
   "metadata": {},
   "outputs": [
    {
     "data": {
      "text/plain": [
       "label\n",
       "0    297\n",
       "1    741\n",
       "2    158\n",
       "3     76\n",
       "dtype: int64"
      ]
     },
     "execution_count": 12,
     "metadata": {},
     "output_type": "execute_result"
    }
   ],
   "source": [
    "data.groupby(['label']).size()"
   ]
  },
  {
   "cell_type": "code",
   "execution_count": 13,
   "metadata": {
    "scrolled": false
   },
   "outputs": [
    {
     "name": "stdout",
     "output_type": "stream",
     "text": [
      "297\n",
      "741\n",
      "158\n",
      "76\n"
     ]
    },
    {
     "data": {
      "image/png": "[encoded data removed]",
      "text/plain": [
       "<Figure size 360x360 with 1 Axes>"
      ]
     },
     "metadata": {
      "needs_background": "light"
     },
     "output_type": "display_data"
    },
    {
     "data": {
      "image/png": "[encoded data removed]",
      "text/plain": [
       "<Figure size 360x360 with 1 Axes>"
      ]
     },
     "metadata": {
      "needs_background": "light"
     },
     "output_type": "display_data"
    },
    {
     "data": {
      "image/png": "[encoded data removed]",
      "text/plain": [
       "<Figure size 360x360 with 1 Axes>"
      ]
     },
     "metadata": {
      "needs_background": "light"
     },
     "output_type": "display_data"
    },
    {
     "data": {
      "image/png": "[encoded data removed]",
      "text/plain": [
       "<Figure size 360x360 with 1 Axes>"
      ]
     },
     "metadata": {
      "needs_background": "light"
     },
     "output_type": "display_data"
    }
   ],
   "source": [
    "clusters = data.groupby(['label'])\n",
    "count = 0\n",
    "titles = ['Chincheros','MachuPicchu','Maras_Moray','Ollantaytambo']\n",
    "dataframe_collection = {} \n",
    "for cluster, cdata in clusters:\n",
    "    print(len(cdata))\n",
    "    \n",
    "    #Create new dataframe in order to reset index\n",
    "    #new_cdata = pd.DataFrame(columns = cdata.columns)\n",
    "    #dataframe_collection[titles[count]] = new_cdata.append(cdata , ignore_index=True)\n",
    "    dataframe_collection[titles[count]] = cdata\n",
    "    \n",
    "    #plot data with seaborn\n",
    "    facet = sns.lmplot(data=cdata, x='latitude', y='longitude', fit_reg=False, legend=True, legend_out=True)\n",
    "    fig = facet.fig\n",
    "    # Add a title to the Figure\n",
    "    fig.suptitle(titles[count], fontsize=15)\n",
    "    count += 1\n",
    "    \n",
    "    \n",
    "    "
   ]
  },
  {
   "cell_type": "code",
   "execution_count": 14,
   "metadata": {},
   "outputs": [
    {
     "name": "stdout",
     "output_type": "stream",
     "text": [
      "Chincheros\n"
     ]
    },
    {
     "data": {
      "text/html": [
       "<div>\n",
       "<style scoped>\n",
       "    .dataframe tbody tr th:only-of-type {\n",
       "        vertical-align: middle;\n",
       "    }\n",
       "\n",
       "    .dataframe tbody tr th {\n",
       "        vertical-align: top;\n",
       "    }\n",
       "\n",
       "    .dataframe thead th {\n",
       "        text-align: right;\n",
       "    }\n",
       "</style>\n",
       "<table border=\"1\" class=\"dataframe\">\n",
       "  <thead>\n",
       "    <tr style=\"text-align: right;\">\n",
       "      <th></th>\n",
       "      <th>date</th>\n",
       "      <th>time</th>\n",
       "      <th>latitude</th>\n",
       "      <th>longitude</th>\n",
       "      <th>name_file</th>\n",
       "      <th>Datetime</th>\n",
       "      <th>label</th>\n",
       "    </tr>\n",
       "  </thead>\n",
       "  <tbody>\n",
       "    <tr>\n",
       "      <th>2</th>\n",
       "      <td>2019:12:25</td>\n",
       "      <td>21:23:03</td>\n",
       "      <td>-13.391979</td>\n",
       "      <td>-72.049106</td>\n",
       "      <td>007.jpg</td>\n",
       "      <td>2019-12-25 21:23:03</td>\n",
       "      <td>0</td>\n",
       "    </tr>\n",
       "    <tr>\n",
       "      <th>3</th>\n",
       "      <td>2019:12:25</td>\n",
       "      <td>21:23:04</td>\n",
       "      <td>-13.391979</td>\n",
       "      <td>-72.049106</td>\n",
       "      <td>008.jpg</td>\n",
       "      <td>2019-12-25 21:23:04</td>\n",
       "      <td>0</td>\n",
       "    </tr>\n",
       "    <tr>\n",
       "      <th>4</th>\n",
       "      <td>2019:12:21</td>\n",
       "      <td>11:32:12</td>\n",
       "      <td>-13.391929</td>\n",
       "      <td>-72.049114</td>\n",
       "      <td>009.jpg</td>\n",
       "      <td>2019-12-21 11:32:12</td>\n",
       "      <td>0</td>\n",
       "    </tr>\n",
       "    <tr>\n",
       "      <th>5</th>\n",
       "      <td>2019:12:21</td>\n",
       "      <td>11:32:12</td>\n",
       "      <td>-13.391929</td>\n",
       "      <td>-72.049114</td>\n",
       "      <td>010.jpg</td>\n",
       "      <td>2019-12-21 11:32:12</td>\n",
       "      <td>0</td>\n",
       "    </tr>\n",
       "    <tr>\n",
       "      <th>6</th>\n",
       "      <td>2019:12:21</td>\n",
       "      <td>11:32:21</td>\n",
       "      <td>-13.391916</td>\n",
       "      <td>-72.049036</td>\n",
       "      <td>011.jpg</td>\n",
       "      <td>2019-12-21 11:32:21</td>\n",
       "      <td>0</td>\n",
       "    </tr>\n",
       "  </tbody>\n",
       "</table>\n",
       "</div>"
      ],
      "text/plain": [
       "         date      time   latitude  longitude name_file            Datetime  label\n",
       "2  2019:12:25  21:23:03 -13.391979 -72.049106   007.jpg 2019-12-25 21:23:03      0\n",
       "3  2019:12:25  21:23:04 -13.391979 -72.049106   008.jpg 2019-12-25 21:23:04      0\n",
       "4  2019:12:21  11:32:12 -13.391929 -72.049114   009.jpg 2019-12-21 11:32:12      0\n",
       "5  2019:12:21  11:32:12 -13.391929 -72.049114   010.jpg 2019-12-21 11:32:12      0\n",
       "6  2019:12:21  11:32:21 -13.391916 -72.049036   011.jpg 2019-12-21 11:32:21      0"
      ]
     },
     "execution_count": 14,
     "metadata": {},
     "output_type": "execute_result"
    }
   ],
   "source": [
    "print(titles[0])\n",
    "dataframe_collection[titles[0]].head(5)"
   ]
  },
  {
   "cell_type": "code",
   "execution_count": 15,
   "metadata": {},
   "outputs": [
    {
     "name": "stdout",
     "output_type": "stream",
     "text": [
      "MachuPicchu\n"
     ]
    },
    {
     "data": {
      "text/html": [
       "<div>\n",
       "<style scoped>\n",
       "    .dataframe tbody tr th:only-of-type {\n",
       "        vertical-align: middle;\n",
       "    }\n",
       "\n",
       "    .dataframe tbody tr th {\n",
       "        vertical-align: top;\n",
       "    }\n",
       "\n",
       "    .dataframe thead th {\n",
       "        text-align: right;\n",
       "    }\n",
       "</style>\n",
       "<table border=\"1\" class=\"dataframe\">\n",
       "  <thead>\n",
       "    <tr style=\"text-align: right;\">\n",
       "      <th></th>\n",
       "      <th>date</th>\n",
       "      <th>time</th>\n",
       "      <th>latitude</th>\n",
       "      <th>longitude</th>\n",
       "      <th>name_file</th>\n",
       "      <th>Datetime</th>\n",
       "      <th>label</th>\n",
       "    </tr>\n",
       "  </thead>\n",
       "  <tbody>\n",
       "    <tr>\n",
       "      <th>96</th>\n",
       "      <td>2019:12:22</td>\n",
       "      <td>09:43:54</td>\n",
       "      <td>-13.165673</td>\n",
       "      <td>-72.545022</td>\n",
       "      <td>1000.jpg</td>\n",
       "      <td>2019-12-22 09:43:54</td>\n",
       "      <td>1</td>\n",
       "    </tr>\n",
       "    <tr>\n",
       "      <th>97</th>\n",
       "      <td>2019:12:22</td>\n",
       "      <td>09:44:15</td>\n",
       "      <td>-13.165598</td>\n",
       "      <td>-72.545007</td>\n",
       "      <td>1001.jpg</td>\n",
       "      <td>2019-12-22 09:44:15</td>\n",
       "      <td>1</td>\n",
       "    </tr>\n",
       "    <tr>\n",
       "      <th>98</th>\n",
       "      <td>2019:12:22</td>\n",
       "      <td>09:44:15</td>\n",
       "      <td>-13.165598</td>\n",
       "      <td>-72.545007</td>\n",
       "      <td>1002.jpg</td>\n",
       "      <td>2019-12-22 09:44:15</td>\n",
       "      <td>1</td>\n",
       "    </tr>\n",
       "    <tr>\n",
       "      <th>99</th>\n",
       "      <td>2019:12:22</td>\n",
       "      <td>09:44:27</td>\n",
       "      <td>-13.165441</td>\n",
       "      <td>-72.544975</td>\n",
       "      <td>1003.jpg</td>\n",
       "      <td>2019-12-22 09:44:27</td>\n",
       "      <td>1</td>\n",
       "    </tr>\n",
       "    <tr>\n",
       "      <th>100</th>\n",
       "      <td>2019:12:22</td>\n",
       "      <td>09:44:27</td>\n",
       "      <td>-13.165441</td>\n",
       "      <td>-72.544975</td>\n",
       "      <td>1004.jpg</td>\n",
       "      <td>2019-12-22 09:44:27</td>\n",
       "      <td>1</td>\n",
       "    </tr>\n",
       "  </tbody>\n",
       "</table>\n",
       "</div>"
      ],
      "text/plain": [
       "           date      time   latitude  longitude name_file            Datetime  label\n",
       "96   2019:12:22  09:43:54 -13.165673 -72.545022  1000.jpg 2019-12-22 09:43:54      1\n",
       "97   2019:12:22  09:44:15 -13.165598 -72.545007  1001.jpg 2019-12-22 09:44:15      1\n",
       "98   2019:12:22  09:44:15 -13.165598 -72.545007  1002.jpg 2019-12-22 09:44:15      1\n",
       "99   2019:12:22  09:44:27 -13.165441 -72.544975  1003.jpg 2019-12-22 09:44:27      1\n",
       "100  2019:12:22  09:44:27 -13.165441 -72.544975  1004.jpg 2019-12-22 09:44:27      1"
      ]
     },
     "execution_count": 15,
     "metadata": {},
     "output_type": "execute_result"
    }
   ],
   "source": [
    "print(titles[1])\n",
    "dataframe_collection[titles[1]].head(5)"
   ]
  },
  {
   "cell_type": "code",
   "execution_count": 16,
   "metadata": {
    "scrolled": true
   },
   "outputs": [
    {
     "name": "stdout",
     "output_type": "stream",
     "text": [
      "Maras_Moray\n"
     ]
    },
    {
     "data": {
      "text/html": [
       "<div>\n",
       "<style scoped>\n",
       "    .dataframe tbody tr th:only-of-type {\n",
       "        vertical-align: middle;\n",
       "    }\n",
       "\n",
       "    .dataframe tbody tr th {\n",
       "        vertical-align: top;\n",
       "    }\n",
       "\n",
       "    .dataframe thead th {\n",
       "        text-align: right;\n",
       "    }\n",
       "</style>\n",
       "<table border=\"1\" class=\"dataframe\">\n",
       "  <thead>\n",
       "    <tr style=\"text-align: right;\">\n",
       "      <th></th>\n",
       "      <th>date</th>\n",
       "      <th>time</th>\n",
       "      <th>latitude</th>\n",
       "      <th>longitude</th>\n",
       "      <th>name_file</th>\n",
       "      <th>Datetime</th>\n",
       "      <th>label</th>\n",
       "    </tr>\n",
       "  </thead>\n",
       "  <tbody>\n",
       "    <tr>\n",
       "      <th>608</th>\n",
       "      <td>2019:12:21</td>\n",
       "      <td>13:28:09</td>\n",
       "      <td>-13.298746</td>\n",
       "      <td>-72.153619</td>\n",
       "      <td>304.jpg</td>\n",
       "      <td>2019-12-21 13:28:09</td>\n",
       "      <td>2</td>\n",
       "    </tr>\n",
       "    <tr>\n",
       "      <th>609</th>\n",
       "      <td>2019:12:21</td>\n",
       "      <td>13:28:09</td>\n",
       "      <td>-13.298746</td>\n",
       "      <td>-72.153619</td>\n",
       "      <td>305.jpg</td>\n",
       "      <td>2019-12-21 13:28:09</td>\n",
       "      <td>2</td>\n",
       "    </tr>\n",
       "    <tr>\n",
       "      <th>610</th>\n",
       "      <td>2019:12:21</td>\n",
       "      <td>13:28:22</td>\n",
       "      <td>-13.299752</td>\n",
       "      <td>-72.153387</td>\n",
       "      <td>306.jpg</td>\n",
       "      <td>2019-12-21 13:28:22</td>\n",
       "      <td>2</td>\n",
       "    </tr>\n",
       "    <tr>\n",
       "      <th>611</th>\n",
       "      <td>2019:12:21</td>\n",
       "      <td>13:28:22</td>\n",
       "      <td>-13.299752</td>\n",
       "      <td>-72.153387</td>\n",
       "      <td>307.jpg</td>\n",
       "      <td>2019-12-21 13:28:22</td>\n",
       "      <td>2</td>\n",
       "    </tr>\n",
       "    <tr>\n",
       "      <th>612</th>\n",
       "      <td>2019:12:21</td>\n",
       "      <td>13:28:54</td>\n",
       "      <td>-13.299752</td>\n",
       "      <td>-72.153387</td>\n",
       "      <td>308.jpg</td>\n",
       "      <td>2019-12-21 13:28:54</td>\n",
       "      <td>2</td>\n",
       "    </tr>\n",
       "  </tbody>\n",
       "</table>\n",
       "</div>"
      ],
      "text/plain": [
       "           date      time   latitude  longitude name_file            Datetime  label\n",
       "608  2019:12:21  13:28:09 -13.298746 -72.153619   304.jpg 2019-12-21 13:28:09      2\n",
       "609  2019:12:21  13:28:09 -13.298746 -72.153619   305.jpg 2019-12-21 13:28:09      2\n",
       "610  2019:12:21  13:28:22 -13.299752 -72.153387   306.jpg 2019-12-21 13:28:22      2\n",
       "611  2019:12:21  13:28:22 -13.299752 -72.153387   307.jpg 2019-12-21 13:28:22      2\n",
       "612  2019:12:21  13:28:54 -13.299752 -72.153387   308.jpg 2019-12-21 13:28:54      2"
      ]
     },
     "execution_count": 16,
     "metadata": {},
     "output_type": "execute_result"
    }
   ],
   "source": [
    "print(titles[2])\n",
    "dataframe_collection[titles[2]].head(5)"
   ]
  },
  {
   "cell_type": "markdown",
   "metadata": {},
   "source": [
    "## Applying clustering on cluster since there two different places"
   ]
  },
  {
   "cell_type": "code",
   "execution_count": 17,
   "metadata": {},
   "outputs": [
    {
     "name": "stdout",
     "output_type": "stream",
     "text": [
      "[ 0  0  0  0  0  0  0  0  0  0  0  0  0  0  0  0  0  0  0  0  0  0  0  0\n",
      "  0  0  0  0  0  0  0  0  0  0  1  1  1  1  1  1  1  1  1  1  1  1  1  1\n",
      "  1  1  1  1  1  1  1  1  1  1  1  1  1  1  1  1  1  1  1  1  1  1  1  1\n",
      "  1  1  1  1  1  1  1  1  1  1  1  1  1  1  1  1  1  1  1  1  1  1  1  1\n",
      "  1  1  1  1  1  1  1  1  1  1  1  1  1  1  1  1  1  1  1  1  1  1  1  1\n",
      "  1  1  1  1  1  1  1  1  1  1  1  1  1  1  1  1  1  1  1  1  1  1  1  1\n",
      "  1  1  1  1  1  1  1  1  1  1 -1 -1 -1 -1]\n",
      "2\n"
     ]
    },
    {
     "data": {
      "text/html": [
       "<div>\n",
       "<style scoped>\n",
       "    .dataframe tbody tr th:only-of-type {\n",
       "        vertical-align: middle;\n",
       "    }\n",
       "\n",
       "    .dataframe tbody tr th {\n",
       "        vertical-align: top;\n",
       "    }\n",
       "\n",
       "    .dataframe thead th {\n",
       "        text-align: right;\n",
       "    }\n",
       "</style>\n",
       "<table border=\"1\" class=\"dataframe\">\n",
       "  <thead>\n",
       "    <tr style=\"text-align: right;\">\n",
       "      <th></th>\n",
       "      <th>date</th>\n",
       "      <th>time</th>\n",
       "      <th>latitude</th>\n",
       "      <th>longitude</th>\n",
       "      <th>name_file</th>\n",
       "      <th>Datetime</th>\n",
       "      <th>label</th>\n",
       "      <th>Second_clustering_label</th>\n",
       "    </tr>\n",
       "  </thead>\n",
       "  <tbody>\n",
       "    <tr>\n",
       "      <th>608</th>\n",
       "      <td>2019:12:21</td>\n",
       "      <td>13:28:09</td>\n",
       "      <td>-13.298746</td>\n",
       "      <td>-72.153619</td>\n",
       "      <td>304.jpg</td>\n",
       "      <td>2019-12-21 13:28:09</td>\n",
       "      <td>2</td>\n",
       "      <td>0</td>\n",
       "    </tr>\n",
       "    <tr>\n",
       "      <th>609</th>\n",
       "      <td>2019:12:21</td>\n",
       "      <td>13:28:09</td>\n",
       "      <td>-13.298746</td>\n",
       "      <td>-72.153619</td>\n",
       "      <td>305.jpg</td>\n",
       "      <td>2019-12-21 13:28:09</td>\n",
       "      <td>2</td>\n",
       "      <td>0</td>\n",
       "    </tr>\n",
       "    <tr>\n",
       "      <th>610</th>\n",
       "      <td>2019:12:21</td>\n",
       "      <td>13:28:22</td>\n",
       "      <td>-13.299752</td>\n",
       "      <td>-72.153387</td>\n",
       "      <td>306.jpg</td>\n",
       "      <td>2019-12-21 13:28:22</td>\n",
       "      <td>2</td>\n",
       "      <td>0</td>\n",
       "    </tr>\n",
       "    <tr>\n",
       "      <th>611</th>\n",
       "      <td>2019:12:21</td>\n",
       "      <td>13:28:22</td>\n",
       "      <td>-13.299752</td>\n",
       "      <td>-72.153387</td>\n",
       "      <td>307.jpg</td>\n",
       "      <td>2019-12-21 13:28:22</td>\n",
       "      <td>2</td>\n",
       "      <td>0</td>\n",
       "    </tr>\n",
       "    <tr>\n",
       "      <th>612</th>\n",
       "      <td>2019:12:21</td>\n",
       "      <td>13:28:54</td>\n",
       "      <td>-13.299752</td>\n",
       "      <td>-72.153387</td>\n",
       "      <td>308.jpg</td>\n",
       "      <td>2019-12-21 13:28:54</td>\n",
       "      <td>2</td>\n",
       "      <td>0</td>\n",
       "    </tr>\n",
       "  </tbody>\n",
       "</table>\n",
       "</div>"
      ],
      "text/plain": [
       "           date      time   latitude  longitude name_file            Datetime  label  Second_clustering_label\n",
       "608  2019:12:21  13:28:09 -13.298746 -72.153619   304.jpg 2019-12-21 13:28:09      2                        0\n",
       "609  2019:12:21  13:28:09 -13.298746 -72.153619   305.jpg 2019-12-21 13:28:09      2                        0\n",
       "610  2019:12:21  13:28:22 -13.299752 -72.153387   306.jpg 2019-12-21 13:28:22      2                        0\n",
       "611  2019:12:21  13:28:22 -13.299752 -72.153387   307.jpg 2019-12-21 13:28:22      2                        0\n",
       "612  2019:12:21  13:28:54 -13.299752 -72.153387   308.jpg 2019-12-21 13:28:54      2                        0"
      ]
     },
     "execution_count": 17,
     "metadata": {},
     "output_type": "execute_result"
    }
   ],
   "source": [
    "attributes = ['latitude','longitude']\n",
    "mm_data = dataframe_collection[titles[2]]\n",
    "\n",
    "X = mm_data[attributes].values\n",
    "\n",
    "db = DBSCAN(eps=0.005, min_samples=6, metric='euclidean', algorithm='auto', leaf_size=30, p=None, n_jobs=1).fit(X)\n",
    "\n",
    "core_samples_mask = np.zeros_like(db.labels_, dtype=bool)\n",
    "core_samples_mask[db.core_sample_indices_] = True\n",
    "labels = db.labels_\n",
    "\n",
    "# Number of clusters in labels, ignoring noise if present.\n",
    "n_clusters_ = len(set(labels)) - (1 if -1 in labels else 0)\n",
    "\n",
    "# adding labels to new feature\n",
    "print(labels)\n",
    "print(n_clusters_)\n",
    "\n",
    "#adding label as new attribute\n",
    "label_serie = pd.Series(labels)\n",
    "\n",
    "mm_data['Second_clustering_label'] = label_serie.values\n",
    "\n",
    "#Erasing noisy data\n",
    "mm_data = mm_data.loc[mm_data.Second_clustering_label >= 0]\n",
    "mm_data.head(5)"
   ]
  },
  {
   "cell_type": "code",
   "execution_count": 18,
   "metadata": {},
   "outputs": [
    {
     "data": {
      "image/png": "[encoded data removed]",
      "text/plain": [
       "<Figure size 488.625x360 with 1 Axes>"
      ]
     },
     "metadata": {
      "needs_background": "light"
     },
     "output_type": "display_data"
    }
   ],
   "source": [
    "#plot data with seaborn\n",
    "facet = sns.lmplot(data=mm_data, x='latitude', y='longitude', hue='Second_clustering_label', \n",
    "                   fit_reg=False, legend=True, legend_out=True)"
   ]
  },
  {
   "cell_type": "code",
   "execution_count": 19,
   "metadata": {},
   "outputs": [],
   "source": [
    "# casting groupby.DataFrameGroupBy to DataFrame\n",
    "mm_data = mm_data.apply(lambda x: x)\n",
    "mm_data = mm_data.groupby(['Second_clustering_label'])"
   ]
  },
  {
   "cell_type": "markdown",
   "metadata": {},
   "source": [
    "### Maras points ploting"
   ]
  },
  {
   "cell_type": "code",
   "execution_count": 20,
   "metadata": {},
   "outputs": [
    {
     "data": {
      "image/png": "[encoded data removed]",
      "text/plain": [
       "<Figure size 360x360 with 1 Axes>"
      ]
     },
     "metadata": {
      "needs_background": "light"
     },
     "output_type": "display_data"
    }
   ],
   "source": [
    "# 0 Maras\n",
    "Maras = mm_data.get_group(0)\n",
    "\n",
    "#plot data with seaborn\n",
    "facet = sns.lmplot(data=Maras, x='latitude', y='longitude', \n",
    "                   fit_reg=False, legend=True, legend_out=True)"
   ]
  },
  {
   "cell_type": "markdown",
   "metadata": {},
   "source": [
    "### Moray points ploting"
   ]
  },
  {
   "cell_type": "code",
   "execution_count": 21,
   "metadata": {},
   "outputs": [
    {
     "data": {
      "image/png": "[encoded data removed]",
      "text/plain": [
       "<Figure size 360x360 with 1 Axes>"
      ]
     },
     "metadata": {
      "needs_background": "light"
     },
     "output_type": "display_data"
    }
   ],
   "source": [
    "# 1 Moray\n",
    "Moray = mm_data.get_group(1)\n",
    "#plot data with seaborn\n",
    "facet = sns.lmplot(data=Moray, x='latitude', y='longitude', \n",
    "                   fit_reg=False, legend=True, legend_out=True)"
   ]
  },
  {
   "cell_type": "code",
   "execution_count": 22,
   "metadata": {},
   "outputs": [
    {
     "name": "stdout",
     "output_type": "stream",
     "text": [
      "Ollantaytambo\n"
     ]
    },
    {
     "data": {
      "text/html": [
       "<div>\n",
       "<style scoped>\n",
       "    .dataframe tbody tr th:only-of-type {\n",
       "        vertical-align: middle;\n",
       "    }\n",
       "\n",
       "    .dataframe tbody tr th {\n",
       "        vertical-align: top;\n",
       "    }\n",
       "\n",
       "    .dataframe thead th {\n",
       "        text-align: right;\n",
       "    }\n",
       "</style>\n",
       "<table border=\"1\" class=\"dataframe\">\n",
       "  <thead>\n",
       "    <tr style=\"text-align: right;\">\n",
       "      <th></th>\n",
       "      <th>date</th>\n",
       "      <th>time</th>\n",
       "      <th>latitude</th>\n",
       "      <th>longitude</th>\n",
       "      <th>name_file</th>\n",
       "      <th>Datetime</th>\n",
       "      <th>label</th>\n",
       "    </tr>\n",
       "  </thead>\n",
       "  <tbody>\n",
       "    <tr>\n",
       "      <th>766</th>\n",
       "      <td>2019:12:21</td>\n",
       "      <td>16:46:54</td>\n",
       "      <td>-13.257305</td>\n",
       "      <td>-72.265809</td>\n",
       "      <td>476.jpg</td>\n",
       "      <td>2019-12-21 16:46:54</td>\n",
       "      <td>3</td>\n",
       "    </tr>\n",
       "    <tr>\n",
       "      <th>767</th>\n",
       "      <td>2019:12:21</td>\n",
       "      <td>16:46:54</td>\n",
       "      <td>-13.257305</td>\n",
       "      <td>-72.265809</td>\n",
       "      <td>477.jpg</td>\n",
       "      <td>2019-12-21 16:46:54</td>\n",
       "      <td>3</td>\n",
       "    </tr>\n",
       "    <tr>\n",
       "      <th>768</th>\n",
       "      <td>2019:12:21</td>\n",
       "      <td>16:47:15</td>\n",
       "      <td>-13.257065</td>\n",
       "      <td>-72.265728</td>\n",
       "      <td>478.jpg</td>\n",
       "      <td>2019-12-21 16:47:15</td>\n",
       "      <td>3</td>\n",
       "    </tr>\n",
       "    <tr>\n",
       "      <th>769</th>\n",
       "      <td>2019:12:21</td>\n",
       "      <td>16:47:15</td>\n",
       "      <td>-13.257065</td>\n",
       "      <td>-72.265728</td>\n",
       "      <td>479.jpg</td>\n",
       "      <td>2019-12-21 16:47:15</td>\n",
       "      <td>3</td>\n",
       "    </tr>\n",
       "    <tr>\n",
       "      <th>770</th>\n",
       "      <td>2019:12:21</td>\n",
       "      <td>16:47:39</td>\n",
       "      <td>-13.256986</td>\n",
       "      <td>-72.265620</td>\n",
       "      <td>480.jpg</td>\n",
       "      <td>2019-12-21 16:47:39</td>\n",
       "      <td>3</td>\n",
       "    </tr>\n",
       "  </tbody>\n",
       "</table>\n",
       "</div>"
      ],
      "text/plain": [
       "           date      time   latitude  longitude name_file            Datetime  label\n",
       "766  2019:12:21  16:46:54 -13.257305 -72.265809   476.jpg 2019-12-21 16:46:54      3\n",
       "767  2019:12:21  16:46:54 -13.257305 -72.265809   477.jpg 2019-12-21 16:46:54      3\n",
       "768  2019:12:21  16:47:15 -13.257065 -72.265728   478.jpg 2019-12-21 16:47:15      3\n",
       "769  2019:12:21  16:47:15 -13.257065 -72.265728   479.jpg 2019-12-21 16:47:15      3\n",
       "770  2019:12:21  16:47:39 -13.256986 -72.265620   480.jpg 2019-12-21 16:47:39      3"
      ]
     },
     "execution_count": 22,
     "metadata": {},
     "output_type": "execute_result"
    }
   ],
   "source": [
    "print(titles[3])\n",
    "dataframe_collection[titles[3]].head(5)"
   ]
  }
 ],
 "metadata": {
  "kernelspec": {
   "display_name": "Python 3",
   "language": "python",
   "name": "python3"
  },
  "language_info": {
   "codemirror_mode": {
    "name": "ipython",
    "version": 3
   },
   "file_extension": ".py",
   "mimetype": "text/x-python",
   "name": "python",
   "nbconvert_exporter": "python",
   "pygments_lexer": "ipython3",
   "version": "3.7.0"
  }
 },
 "nbformat": 4,
 "nbformat_minor": 2
}
